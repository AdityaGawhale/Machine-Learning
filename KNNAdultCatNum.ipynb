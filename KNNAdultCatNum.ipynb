{
 "cells": [
  {
   "cell_type": "code",
   "execution_count": null,
   "metadata": {},
   "outputs": [],
   "source": [
    "import pandas as pd\n",
    "import numpy as np\n",
    "\n",
    "df=pd.read_csv(\"https://archive.ics.uci.edu/ml/machine-learning-databases/adult/adult.data\",header=None)\n",
    "\n",
    "names=['age','workclass','fnlwgt','education','education-num','marital-status','occupation','relationship','race','sex','capital-gain','capital-loss','hours-per-week','native-country','salary']\n",
    "\n",
    "df.columns=names"
   ]
  },
  {
   "cell_type": "markdown",
   "metadata": {},
   "source": [
    "Missing data is replaced by mode of the column"
   ]
  },
  {
   "cell_type": "code",
   "execution_count": null,
   "metadata": {},
   "outputs": [],
   "source": [
    "list0=[]\n",
    "for column in df.columns:\n",
    "    try:\n",
    "        data= df[df[column]==' ?']\n",
    "        if data.shape[0]>0:\n",
    "            list0.append(column)\n",
    "            \n",
    "    except:\n",
    "        continue;\n",
    "\n",
    "for i in list0:\n",
    "    s=pd.Series(df[i])\n",
    "    s.replace(' ?',s.mode()[0], inplace=True)"
   ]
  },
  {
   "cell_type": "markdown",
   "metadata": {},
   "source": [
    "Categorical and Numerical data separated"
   ]
  },
  {
   "cell_type": "code",
   "execution_count": null,
   "metadata": {},
   "outputs": [],
   "source": [
    "dfNum=df[df._get_numeric_data().columns]\n",
    "dfCat=df[list(set(names)-set(df._get_numeric_data().columns))]"
   ]
  },
  {
   "cell_type": "markdown",
   "metadata": {},
   "source": [
    "One Hot Encoding used for converting categorical data to numerical \n",
    "Each distinct value of an attribute is a new atrribute, for each row if old attribute value equal to new distinct arrtibute, that new distinct attribute's value is 1 else 0 for that row "
   ]
  },
  {
   "cell_type": "code",
   "execution_count": null,
   "metadata": {},
   "outputs": [],
   "source": [
    "from sklearn.preprocessing import OneHotEncoder\n",
    "ohc=OneHotEncoder()\n",
    "ohc.fit(dfCat.drop(columns='salary'))\n",
    "data=ohc.transform(dfCat.drop(columns='salary')).toarray()\n",
    "dfEncoded=pd.DataFrame(data, index = dfCat.index.values, columns=ohc.get_feature_names())\n",
    "dfEncoded['salary']=df['salary']"
   ]
  },
  {
   "cell_type": "markdown",
   "metadata": {},
   "source": [
    "Numerical data and One Hot Encoded data are combined according to index"
   ]
  },
  {
   "cell_type": "code",
   "execution_count": null,
   "metadata": {},
   "outputs": [],
   "source": [
    "df1=pd.concat([dfNum,dfEncoded],axis=1)"
   ]
  },
  {
   "cell_type": "markdown",
   "metadata": {},
   "source": [
    "Training and testing data split 5 times, so each row of original data is once in test data prediction of each test data ouput combined according to test_index and compared with output of original data output values for accuracy\n",
    "\n",
    "Data is scaled so each attribute has significant contribution in finding euclidean distances between single test instance and every training instance\n",
    "\n",
    "Pairwise Euclidean distances are calculated between single test instance/row and every training instance/row\n",
    "Outputs of the k least distant training rows according to Euclidean distance from a test instance is considered and the majority output is the predicted output of the test instance\n",
    "\n",
    "Algorithm is run for 4 of the k values"
   ]
  },
  {
   "cell_type": "code",
   "execution_count": null,
   "metadata": {},
   "outputs": [],
   "source": [
    "from sklearn.model_selection import KFold\n",
    "kf = KFold(n_splits=5)\n",
    "\n",
    "from sklearn.neighbors import KNeighborsClassifier\n",
    "\n",
    "from sklearn.metrics import pairwise_distances\n",
    "\n",
    "from sklearn.preprocessing import StandardScaler\n",
    "\n",
    "acc=[]\n",
    "for k in range(1,4):    \n",
    "    results=pd.Series()\n",
    "    for train_index, test_index in kf.split(df1):\n",
    "        Xtrain, Xtest, Ytrain, Ytest = df1.drop(columns='salary').iloc[train_index], df1.drop(columns='salary').iloc[test_index], df1['salary'].iloc[train_index], df1['salary'].iloc[test_index]\n",
    "        s = StandardScaler()\n",
    "        \n",
    "        Xtrain=Xtrain.astype(float)\n",
    "        Xtest=Xtest.astype(float)\n",
    "\n",
    "        Xtrain=s.fit_transform(Xtrain)\n",
    "        Xtest=s.transform(Xtest)\n",
    "        \n",
    "        Dist=pairwise_distances(Xtest, Xtrain, metric='euclidean')\n",
    "        \n",
    "        predict=[]\n",
    "        for i in range(0,Xtest.shape[0]):\n",
    "            sorting=pd.Series(Dist[i],index=train_index)\n",
    "            sorting=sorting.sort_values()\n",
    "            Output=sorting[0:k]\n",
    "    \n",
    "            O=Ytrain[Output.index[0:k]]\n",
    "        \n",
    "            predict.append(max(O.value_counts().index))\n",
    "            \n",
    "        res=pd.Series(predict,index=test_index)\n",
    "        results=results.append(res)\n",
    "        \n",
    "    results=results.sort_index()\n",
    "    \n",
    "    from sklearn import metrics\n",
    "    print(\"Accuracy:\",(metrics.accuracy_score(df1['salary'], results)*100),\"%\",k)\n",
    "    acc.append(metrics.accuracy_score(df1['salary'], results))\n",
    "    \n",
    "print('Accuracy:',(max(acc))*100,'%','k=',acc.index(max(acc)))        "
   ]
  }
 ],
 "metadata": {
  "kernelspec": {
   "display_name": "Python 3",
   "language": "python",
   "name": "python3"
  },
  "language_info": {
   "codemirror_mode": {
    "name": "ipython",
    "version": 3
   },
   "file_extension": ".py",
   "mimetype": "text/x-python",
   "name": "python",
   "nbconvert_exporter": "python",
   "pygments_lexer": "ipython3",
   "version": "3.7.1"
  }
 },
 "nbformat": 4,
 "nbformat_minor": 2
}
