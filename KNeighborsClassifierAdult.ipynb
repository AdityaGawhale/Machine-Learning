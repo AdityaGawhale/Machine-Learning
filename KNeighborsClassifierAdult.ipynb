{
 "cells": [
  {
   "cell_type": "code",
   "execution_count": null,
   "metadata": {},
   "outputs": [],
   "source": [
    "import pandas as pd\n",
    "import numpy as np\n",
    "\n",
    "df=pd.read_csv(\"https://archive.ics.uci.edu/ml/machine-learning-databases/adult/adult.data\",header=None)\n",
    "\n",
    "names=['age','workclass','fnlwgt','education','education-num','marital-status','occupation','relationship','race','sex','capital-gain','capital-loss','hours-per-week','native-country','salary']\n",
    "\n",
    "df.columns=names"
   ]
  },
  {
   "cell_type": "markdown",
   "metadata": {},
   "source": [
    "Missing data is replaced by mode of the column"
   ]
  },
  {
   "cell_type": "code",
   "execution_count": null,
   "metadata": {},
   "outputs": [],
   "source": [
    "list0=[]\n",
    "for column in df.columns:\n",
    "    try:\n",
    "        data= df[df[column]==' ?']\n",
    "        if data.shape[0]>0:\n",
    "            list0.append(column)\n",
    "            \n",
    "    except:\n",
    "        continue;\n",
    "\n",
    "for i in list0:\n",
    "    s=pd.Series(df[i])\n",
    "    s.replace(' ?',s.mode()[0], inplace=True)"
   ]
  },
  {
   "cell_type": "markdown",
   "metadata": {},
   "source": [
    "Taking only Numerical data"
   ]
  },
  {
   "cell_type": "code",
   "execution_count": null,
   "metadata": {},
   "outputs": [],
   "source": [
    "df1=df[df._get_numeric_data().columns]\n",
    "df1['salary']=df['salary']"
   ]
  },
  {
   "cell_type": "markdown",
   "metadata": {},
   "source": [
    "Training and testing data split 5 times, so each row of original data is once in test data prediction of each test data ouput combined according to test_index and compared with output of original data output values for accuracy\n",
    "\n",
    "Data is scaled so each attribute has significant contribution in finding distances between test instance and k nearest neighbours\n",
    "\n",
    "Nearest k neighbour's output is considered and the majority's output is predicted output of this test instance given by knn.predict\n",
    "\n",
    "Algorithm is run for 181 values of k i.e square root of number of instances/rows of training data"
   ]
  },
  {
   "cell_type": "code",
   "execution_count": null,
   "metadata": {
    "scrolled": true
   },
   "outputs": [],
   "source": [
    "from sklearn.model_selection import KFold\n",
    "kf = KFold(n_splits=5)\n",
    "\n",
    "from sklearn.preprocessing import StandardScaler\n",
    "\n",
    "acc=[]\n",
    "\n",
    "for i in range(1,181):\n",
    "    from sklearn.neighbors import KNeighborsClassifier\n",
    "    knn = KNeighborsClassifier(n_neighbors=i)\n",
    "\n",
    "    results=pd.Series()\n",
    "\n",
    "    for train_index, test_index in kf.split(df1):\n",
    "        X_Train, X_test, y_train, ytest = df1.drop(columns='salary').iloc[train_index], df1.drop(columns='salary').iloc[test_index], df1['salary'].iloc[train_index], df1['salary'].iloc[test_index]\n",
    "\n",
    "        scaler = StandardScaler()\n",
    "\n",
    "        X_Train=scaler.fit_transform(X_Train)\n",
    "        X_test=scaler.transform(X_test)\n",
    "\n",
    "        knn.fit(X_Train, y_train)\n",
    "\n",
    "        y_pred = knn.predict(X_test)\n",
    "\n",
    "        indexes=list(test_index)\n",
    "    \n",
    "        res=pd.Series(y_pred,index=indexes)\n",
    "        results=results.append(res)\n",
    "    \n",
    "    results=results.sort_index()    \n",
    "    \n",
    "    from sklearn import metrics\n",
    "    print(\"Accuracy:\",(metrics.accuracy_score(df1['salary'], results))*100,'%')\n",
    "    \n",
    "    acc.append(metrics.accuracy_score(df1['salary'], results))\n",
    "    \n",
    "print('Accuracy:',(max(acc))*100,'%','k=',acc.index(max(acc)))    "
   ]
  },
  {
   "cell_type": "markdown",
   "metadata": {},
   "source": [
    "Co-relation of K value and accuracy of KNN model for given K value plotted "
   ]
  },
  {
   "cell_type": "code",
   "execution_count": 53,
   "metadata": {},
   "outputs": [
    {
     "data": {
      "image/png": "[encoded data removed]",
      "text/plain": [
       "<Figure size 432x288 with 1 Axes>"
      ]
     },
     "metadata": {
      "needs_background": "light"
     },
     "output_type": "display_data"
    }
   ],
   "source": [
    "import matplotlib.pyplot as plt\n",
    "\n",
    "plt.plot(K,acc)\n",
    "plt.title('K vs Accuracy')\n",
    "plt.xlabel('K')\n",
    "plt.ylabel('Accuracy')\n",
    "plt.show()"
   ]
  },
  {
   "cell_type": "markdown",
   "metadata": {},
   "source": [
    "Sactter plot of K value and KNN accuracy for the K value"
   ]
  },
  {
   "cell_type": "code",
   "execution_count": 69,
   "metadata": {},
   "outputs": [
    {
     "data": {
      "image/png": "[encoded data removed]",
      "text/plain": [
       "<Figure size 432x288 with 1 Axes>"
      ]
     },
     "metadata": {
      "needs_background": "light"
     },
     "output_type": "display_data"
    }
   ],
   "source": [
    "plt.scatter(K, acc, s=3)\n",
    "plt.title('K vs Accuracy')\n",
    "plt.xlabel('K')\n",
    "plt.ylabel('Accuracy')\n",
    "plt.show()\n",
    "plt.show()"
   ]
  }
 ],
 "metadata": {
  "kernelspec": {
   "display_name": "Python 3",
   "language": "python",
   "name": "python3"
  },
  "language_info": {
   "codemirror_mode": {
    "name": "ipython",
    "version": 3
   },
   "file_extension": ".py",
   "mimetype": "text/x-python",
   "name": "python",
   "nbconvert_exporter": "python",
   "pygments_lexer": "ipython3",
   "version": "3.7.1"
  }
 },
 "nbformat": 4,
 "nbformat_minor": 2
}
