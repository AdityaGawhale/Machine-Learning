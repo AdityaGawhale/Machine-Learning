{
 "cells": [
  {
   "cell_type": "markdown",
   "metadata": {},
   "source": [
    "Adult data set from uci website read and column names initialized (Contains Categorical and Continuous data)"
   ]
  },
  {
   "cell_type": "code",
   "execution_count": null,
   "metadata": {},
   "outputs": [],
   "source": [
    "import pandas as pd\n",
    "import numpy as np\n",
    "\n",
    "df=pd.read_csv(\"https://archive.ics.uci.edu/ml/machine-learning-databases/adult/adult.data\",header=None)\n",
    "\n",
    "names=['age','workclass','fnlwgt','education','education-num','marital-status','occupation','relationship','race','sex','capital-gain','capital-loss','hours-per-week','native-country','salary']\n",
    "df.columns=names"
   ]
  },
  {
   "cell_type": "markdown",
   "metadata": {},
   "source": [
    "list0 gives columns having values '?'\n",
    "\n",
    "Each column of DataFrame is a series and each '?' in a series is replaced by the mode of that series (most occuring value in that series)\n",
    "\n",
    "The above tasks fill the missing data in Adult dataset "
   ]
  },
  {
   "cell_type": "code",
   "execution_count": null,
   "metadata": {},
   "outputs": [],
   "source": [
    "list0=[]\n",
    "for column in df.columns:\n",
    "    try:\n",
    "        data= df[df[column]==' ?']\n",
    "        if data.shape[0]>0:\n",
    "            list0.append(column)\n",
    "            \n",
    "    except:\n",
    "        continue;\n",
    "\n",
    "for i in list0:\n",
    "    df[i].replace(' ?',df[i].mode()[0], inplace=True)"
   ]
  },
  {
   "cell_type": "markdown",
   "metadata": {},
   "source": [
    "Train-Test Split the message data using sklearn\n",
    "\n",
    "X_train gives Training message data on which algorithm is trained on\n",
    "\n",
    "X_test gives Testing message data on which algorithm is tested on\n",
    "\n",
    "y_train gives output column for prediction derived from training data\n",
    "\n",
    "y_train gives output column to be checked for prediction derived from testing data and calculate accuracy of algorithm"
   ]
  },
  {
   "cell_type": "code",
   "execution_count": null,
   "metadata": {},
   "outputs": [],
   "source": [
    "from sklearn.model_selection import train_test_split\n",
    "\n",
    "X_train, X_test, y_train, y_test = train_test_split(df[df.columns.drop('salary')], df['salary'], test_size=0.30)\n",
    "\n",
    "XTrain=X_train.reset_index(drop=True)\n",
    "YTrain=y_train.reset_index(drop=True)\n",
    "ytest=y_test.reset_index(drop=True)\n",
    "xtest=X_test.reset_index(drop=True)"
   ]
  },
  {
   "cell_type": "markdown",
   "metadata": {},
   "source": [
    "XTrain1 gives continuous training data of XTrain\n",
    "xtest1 gives continuous testing data of xtest\n",
    "\n",
    "XTrain2 gives categorical training data of XTrain\n",
    "xtest2 gives categorical testing data of xtest"
   ]
  },
  {
   "cell_type": "code",
   "execution_count": null,
   "metadata": {},
   "outputs": [],
   "source": [
    "XTrain1=XTrain[XTrain._get_numeric_data().columns]\n",
    "YTrain1=YTrain\n",
    "xtest1=xtest[xtest._get_numeric_data().columns]\n",
    "ytest1=ytest\n",
    "\n",
    "XTrain2=XTrain[list(set(XTrain.columns)-set(XTrain._get_numeric_data().columns))]\n",
    "YTrain2=YTrain\n",
    "xtest2=xtest[list(set(XTrain.columns)-set(xtest._get_numeric_data().columns))]\n",
    "ytest2=ytest"
   ]
  },
  {
   "cell_type": "markdown",
   "metadata": {},
   "source": [
    "dfTRAIN1 has training data\n",
    "\n",
    "data['Mean'] is mean of given column values corresponding to an output value (eg: age <=50K) i.e in same row\n",
    "data['Var'] is variance of given column values corresponding to an output value (eg: age <=50K) i.e in same row\n",
    "\n",
    "all this is stored in Dict2 key is 'column_name''Output_Value' and value is mean and variance of those values of column_name corresponding to Output_Value (in same row)\n",
    "\n",
    "This the role of Fit1 function"
   ]
  },
  {
   "cell_type": "code",
   "execution_count": null,
   "metadata": {},
   "outputs": [],
   "source": [
    "def Fit1(XTrain1,YTrain1):\n",
    "    Dict2={}\n",
    "    \n",
    "    dfTRAIN1=XTrain1.copy()\n",
    "    dfTRAIN1['salary']=YTrain1 \n",
    "    \n",
    "    for i in YTrain1.value_counts().index:\n",
    "        for j in XTrain1.columns:\n",
    "            data={}\n",
    "            mean=np.mean(dfTRAIN1[j][dfTRAIN1['salary']==i].values)\n",
    "            variance=np.var(dfTRAIN1[j][dfTRAIN1['salary']==i].values)\n",
    "            data['Mean']=mean\n",
    "            data['Var']=variance\n",
    "            Dict2[j+i]=data\n",
    "\n",
    "    return(Dict2)       "
   ]
  },
  {
   "cell_type": "markdown",
   "metadata": {},
   "source": [
    "dfFit has categorical training data. Probabilities of each 'word' given an 'Output_Value' is stored in Dict2 \n",
    "Fit2 function returns this Dictionary of probabilities"
   ]
  },
  {
   "cell_type": "code",
   "execution_count": null,
   "metadata": {},
   "outputs": [],
   "source": [
    "def Fit2(XTrain2, YTrain2):\n",
    "    Dict1 = {}\n",
    "    Dict2 = {}\n",
    "\n",
    "    dfFit=XTrain2.copy()\n",
    "    dfFit['salary']=YTrain2\n",
    "\n",
    "    for k in XTrain2.columns.values:\n",
    "        for i in XTrain2[k].value_counts().index:\n",
    "            for j in YTrain2.value_counts().index:\n",
    "                Prob_Denom=dfFit[dfFit['salary']==j].shape[0]/dfFit.shape[0]\n",
    "        \n",
    "                Prob_Numer=dfFit[(dfFit[k]==i)&(dfFit['salary']==j)].shape[0]/dfFit.shape[0]\n",
    "\n",
    "                Dict2[i+j]=Prob_Numer/Prob_Denom\n",
    "            \n",
    "        Dict1[k]=Dict2\n",
    "    \n",
    "    return(Dict1)"
   ]
  },
  {
   "cell_type": "code",
   "execution_count": null,
   "metadata": {},
   "outputs": [],
   "source": [
    "Dict1={}\n",
    "\n",
    "Dict1=Fit1(XTrain1,YTrain1)"
   ]
  },
  {
   "cell_type": "code",
   "execution_count": null,
   "metadata": {},
   "outputs": [],
   "source": [
    "Dict4={}\n",
    "Dict4=Fit2(XTrain2, YTrain2)"
   ]
  },
  {
   "cell_type": "markdown",
   "metadata": {},
   "source": [
    "words in testing data but not in training data are omitted\n",
    "\n",
    "probabilities for Prob1(word|Output_Value) for numerical data is calculated using GaussianNB formula  \n",
    "\n",
    "probabilities for Prob2(word|Output_Value) for categorical data is retreived from Dictionary Dict4\n",
    "\n",
    "These are all then multiplied for attributes of each row Naive_Bayes style to give prediction for a row"
   ]
  },
  {
   "cell_type": "code",
   "execution_count": null,
   "metadata": {},
   "outputs": [],
   "source": [
    "import math\n",
    "\n",
    "def predict(xtest1,ytest1,Dict1,xtest2,ytest2,Dict4):\n",
    "    predict=[]\n",
    "    for i in range(0,xtest1.shape[0]):\n",
    "        print(i)\n",
    "        great=0.0\n",
    "        greatest='a'\n",
    "        \n",
    "        for j in ytest1.value_counts().index:\n",
    "            val1=1.0\n",
    "            val2=1.0\n",
    "            val=1.0\n",
    "            for k1 in xtest1.columns:\n",
    "                try:\n",
    "                    x=Dict1[k1+j]\n",
    "                    mean=x['Mean']\n",
    "                    variance=x['Var']\n",
    "                    Prob1=(1.0/math.sqrt(2.0*math.pi*(variance**2)))*math.exp(-1.0*(((xtest1[k1][i]-mean)**2)/(2.0*(variance**2))))\n",
    "                \n",
    "                except KeyError:\n",
    "                    print('Hey')\n",
    "                    continue\n",
    "                val1=val1*Prob1\n",
    "            \n",
    "            for k2 in xtest2.columns:\n",
    "                try:\n",
    "                    Prob2=Dict4[k2][xtest2[k2][i]+j]\n",
    "                except KeyError:\n",
    "                    print('Hey1')\n",
    "                    continue\n",
    "                val2=val2*Prob2\n",
    "            \n",
    "            val=val1*val2*((ytest1[ytest1==j].shape[0])/ytest1.shape[0])\n",
    "                 \n",
    "            if(val>great):\n",
    "                great=val\n",
    "                greatest=j\n",
    "             \n",
    "        predict.append(greatest)\n",
    "                \n",
    "    return predict    \n",
    "                    "
   ]
  },
  {
   "cell_type": "code",
   "execution_count": null,
   "metadata": {},
   "outputs": [],
   "source": [
    "predict_list=predict(xtest1,ytest1,Dict1,xtest2,ytest2,Dict4)"
   ]
  },
  {
   "cell_type": "markdown",
   "metadata": {},
   "source": [
    "Accuracy calculated based on predictions returned and actual output values of test data\n",
    "\n",
    "Accuracy is 75.52%"
   ]
  },
  {
   "cell_type": "code",
   "execution_count": null,
   "metadata": {},
   "outputs": [],
   "source": [
    "def accuracy(predict_list,ytest1):\n",
    "    count=0\n",
    "    for i in range(0,ytest1.shape[0]):\n",
    "        if(predict_list[i]==ytest1[i]):\n",
    "            count=count+1\n",
    "    \n",
    "    Accuracy=count/ytest1.shape[0]\n",
    "    return Accuracy"
   ]
  },
  {
   "cell_type": "code",
   "execution_count": 12,
   "metadata": {},
   "outputs": [
    {
     "name": "stdout",
     "output_type": "stream",
     "text": [
      "75.52461869178012 %\n"
     ]
    }
   ],
   "source": [
    "print((accuracy(predict_list,ytest1))*100,\"%\")"
   ]
  }
 ],
 "metadata": {
  "kernelspec": {
   "display_name": "Python 3",
   "language": "python",
   "name": "python3"
  },
  "language_info": {
   "codemirror_mode": {
    "name": "ipython",
    "version": 3
   },
   "file_extension": ".py",
   "mimetype": "text/x-python",
   "name": "python",
   "nbconvert_exporter": "python",
   "pygments_lexer": "ipython3",
   "version": "3.7.1"
  }
 },
 "nbformat": 4,
 "nbformat_minor": 2
}
