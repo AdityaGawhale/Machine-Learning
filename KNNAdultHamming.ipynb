{
 "cells": [
  {
   "cell_type": "code",
   "execution_count": null,
   "metadata": {},
   "outputs": [],
   "source": [
    "import pandas as pd\n",
    "import numpy as np\n",
    "\n",
    "df=pd.read_csv(\"https://archive.ics.uci.edu/ml/machine-learning-databases/adult/adult.data\",header=None)\n",
    "\n",
    "names=['age','workclass','fnlwgt','education','education-num','marital-status','occupation','relationship','race','sex','capital-gain','capital-loss','hours-per-week','native-country','salary']\n",
    "\n",
    "df.columns=names"
   ]
  },
  {
   "cell_type": "markdown",
   "metadata": {},
   "source": [
    "Missing data is replaced by mode of the column"
   ]
  },
  {
   "cell_type": "code",
   "execution_count": null,
   "metadata": {},
   "outputs": [],
   "source": [
    "list0=[]\n",
    "for column in df.columns:\n",
    "    try:\n",
    "        data= df[df[column]==' ?']\n",
    "        if data.shape[0]>0:\n",
    "            list0.append(column)\n",
    "            \n",
    "    except:\n",
    "        continue;\n",
    "\n",
    "for i in list0:\n",
    "    s=pd.Series(df[i])\n",
    "    s.replace(' ?',s.mode()[0], inplace=True)"
   ]
  },
  {
   "cell_type": "markdown",
   "metadata": {},
   "source": [
    "Only categorical data taken"
   ]
  },
  {
   "cell_type": "code",
   "execution_count": null,
   "metadata": {},
   "outputs": [],
   "source": [
    "df1=df[list(set(names)-set(df._get_numeric_data().columns))]\n",
    "df1['salary']=df['salary']"
   ]
  },
  {
   "cell_type": "markdown",
   "metadata": {},
   "source": [
    "Label Encoder is used to convert Categorical values to numerical\n",
    "Each distinct value in a column/attribute gets a unique number to identify it among all distinct values of that column/attribute"
   ]
  },
  {
   "cell_type": "code",
   "execution_count": null,
   "metadata": {},
   "outputs": [],
   "source": [
    "from sklearn import preprocessing\n",
    "le = preprocessing.LabelEncoder()\n",
    "\n",
    "for i in range(0,df1.shape[1]):\n",
    "    le.fit(df1.iloc[:][df1.columns[i]])\n",
    "    df1[df1.columns[i]]=le.transform(df1.iloc[:][df1.columns[i]])    "
   ]
  },
  {
   "cell_type": "markdown",
   "metadata": {},
   "source": [
    "Training and test data obtained from Original data \n",
    "Y -> output values of test and train data"
   ]
  },
  {
   "cell_type": "code",
   "execution_count": null,
   "metadata": {},
   "outputs": [],
   "source": [
    "from sklearn.model_selection import train_test_split\n",
    "\n",
    "X_train, X_test, y_train, y_test = train_test_split(df1[df1.columns.drop('salary')], df1['salary'], test_size=0.30)\n",
    "\n",
    "XTrain=X_train.reset_index(drop=True)\n",
    "YTrain=y_train.reset_index(drop=True)\n",
    "ytest=y_test.reset_index(drop=True)\n",
    "xtest=X_test.reset_index(drop=True)"
   ]
  },
  {
   "cell_type": "markdown",
   "metadata": {},
   "source": [
    "Hamming distance between single test instance/row and every training instance is calculated i.e number of different attribute values (except output) between test and train instance\n",
    "\n",
    "least k distant (from given test instance) training instance's outputs are considered, majority output will be predicted output of that test instance"
   ]
  },
  {
   "cell_type": "code",
   "execution_count": null,
   "metadata": {},
   "outputs": [],
   "source": [
    "from sklearn.metrics import pairwise_distances\n",
    "from sklearn.metrics.pairwise import pairwise_kernels\n",
    "\n",
    "def Predict(XTrain,YTrain,xtest,ytest,K):\n",
    "    prediction=[]\n",
    "   \n",
    "    Dist=pairwise_distances(xtest, XTrain, metric='hamming')     \n",
    "    \n",
    "    for i in range(0,xtest.shape[0]):\n",
    "        print(i)\n",
    "        sorting=pd.Series(Dist[i])    \n",
    "        sorting=sorting.sort_values()\n",
    "        \n",
    "        Output_indexes=sorting[0:K].index\n",
    "        print(Output_indexes)\n",
    "        \n",
    "        Output=[]\n",
    "        for z in range(0,K):\n",
    "            Output.append(YTrain[Output_indexes[z]])\n",
    "            \n",
    "            \n",
    "        O=pd.Series(Output)\n",
    "        \n",
    "        prediction.append(max(O.value_counts().index))\n",
    "        \n",
    "    return(prediction)                 "
   ]
  },
  {
   "cell_type": "markdown",
   "metadata": {},
   "source": [
    "k value of 43 used for this algorithm since it was previously found that algorithm gives highest accuracy for this value"
   ]
  },
  {
   "cell_type": "code",
   "execution_count": null,
   "metadata": {},
   "outputs": [],
   "source": [
    "predict_list=Predict(XTrain,YTrain,xtest,ytest,43)\n",
    "print(predict_list)\n",
    "\n",
    "from sklearn import metrics\n",
    "print(\"Accuracy:\",(metrics.accuracy_score(ytest, predict_list))*100,'%')"
   ]
  },
  {
   "cell_type": "markdown",
   "metadata": {},
   "source": [
    "A simple demonstartion to show how hamming distances are returned by pairwise_distances function\n",
    "Hamming distance between single s row and every ss row is calculated\n",
    "\n",
    "val is a matrix where ith row of val represents the hamming distances between ith row of s and every row of ss (jth element in this row is hamming distance between ith row of s and jth row of ss) \n",
    "\n",
    "Hence each row of val gives distances between ith row of s and every row of ss"
   ]
  },
  {
   "cell_type": "code",
   "execution_count": null,
   "metadata": {},
   "outputs": [],
   "source": [
    "from sklearn.metrics import pairwise_distances\n",
    "from sklearn.metrics.pairwise import pairwise_kernels\n",
    "\n",
    "s3=np.array([[1,2],[1,2]])\n",
    "s4=np.array([[1,2]])\n",
    "s=pd.DataFrame(s3,index=[0,1])\n",
    "print(s)\n",
    "ss=pd.DataFrame(s4,index=[2])\n",
    "print(ss)\n",
    "\n",
    "val=pairwise_distances(s, ss, metric='hamming')\n",
    "print((list(val)).index)"
   ]
  }
 ],
 "metadata": {
  "kernelspec": {
   "display_name": "Python 3",
   "language": "python",
   "name": "python3"
  },
  "language_info": {
   "codemirror_mode": {
    "name": "ipython",
    "version": 3
   },
   "file_extension": ".py",
   "mimetype": "text/x-python",
   "name": "python",
   "nbconvert_exporter": "python",
   "pygments_lexer": "ipython3",
   "version": "3.7.1"
  }
 },
 "nbformat": 4,
 "nbformat_minor": 2
}
