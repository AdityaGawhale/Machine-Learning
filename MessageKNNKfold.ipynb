{
 "cells": [
  {
   "cell_type": "markdown",
   "metadata": {},
   "source": [
    "Read the message data into 'df' DataFrame, label columns "
   ]
  },
  {
   "cell_type": "code",
   "execution_count": null,
   "metadata": {},
   "outputs": [],
   "source": [
    "import pandas as pd\n",
    "import numpy as np\n",
    "\n",
    "df=pd.read_table(\"https://raw.githubusercontent.com/justmarkham/pycon-2016-tutorial/master/data/sms.tsv\",header=None)\n",
    "names=['label','messages']\n",
    "df.columns=names\n"
   ]
  },
  {
   "cell_type": "markdown",
   "metadata": {},
   "source": [
    "Convert values in 'label' column to numerical values and store in 'label_num' column for using MultinomialNB algorithm that only takes numerical data"
   ]
  },
  {
   "cell_type": "code",
   "execution_count": 16,
   "metadata": {},
   "outputs": [],
   "source": [
    "df['label_num'] = df.label.map({'ham':0, 'spam':1})"
   ]
  },
  {
   "cell_type": "markdown",
   "metadata": {},
   "source": [
    "Original data is split 5 times so every row is once in test data. Results combined according to test_index and prediction obtained. This is compared with output values of original data to get accuracy\n",
    "\n",
    "Count Vectorizer is called, Firstly the number of columns are decided based on number of disitnct words in the given data. \n",
    "Each row corresponds to a given message sentence and each column value will be the number of occurences of that distinct word (column name) in that sentence. This is all handled by CountVectorizer. \n",
    " \n",
    "CountVectorizer is internal to Jupyter Notebook, no need to import anything\n",
    "\n",
    "The parameter to initialize CountVectorizer needs to be changed since it does not recognize single words like 'a' as distinct words. For this ' token_pattern=r\"(?u)\\b\\w\\w+\\b\" ' which is a default parameter is updated to ' token_pattern=r\"(?u)\\b\\w+\\b\" ' which recognizes single words \n",
    "\n",
    "The vectorized data is converted to arrays for each message sentence\n",
    "\n",
    "Pairwise distance between single test instance/row and every row of training data according to euclidean distance is calculated.\n",
    "\n",
    "Nearest k neighbour's (k training data rows with least euclidean distance from test row) output is considered and the majority's output is predicted output of this test instance\n",
    "\n",
    "Algorithm is run for 67 k values that is root of training data size"
   ]
  },
  {
   "cell_type": "code",
   "execution_count": 22,
   "metadata": {},
   "outputs": [
    {
     "name": "stdout",
     "output_type": "stream",
     "text": [
      "Accuracy: 95.04666188083274 % 1\n",
      "Accuracy: 95.13639626704953 % 2\n",
      "Accuracy: 95.22613065326632 % 3\n",
      "Accuracy: 95.20818377602296 % 4\n",
      "Accuracy: 95.2440775305097 % 5\n",
      "Accuracy: 95.26202440775306 % 6\n",
      "Accuracy: 95.2440775305097 % 7\n",
      "Accuracy: 95.19023689877962 % 8\n",
      "Accuracy: 95.17229002153626 % 9\n",
      "Accuracy: 95.1543431442929 % 10\n",
      "Accuracy: 95.10050251256281 % 11\n",
      "Accuracy: 94.99282124910266 % 12\n",
      "Accuracy: 94.93898061737258 % 13\n",
      "Accuracy: 94.86719310839914 % 14\n",
      "Accuracy: 94.79540559942569 % 15\n",
      "Accuracy: 94.7056712132089 % 16\n",
      "Accuracy: 94.58004307250538 % 17\n",
      "Accuracy: 94.56209619526203 % 18\n",
      "Accuracy: 94.52620244077531 % 19\n",
      "Accuracy: 94.47236180904522 % 20\n",
      "Accuracy: 94.47236180904522 % 21\n",
      "Accuracy: 94.23905240488155 % 22\n",
      "Accuracy: 94.14931801866476 % 23\n",
      "Accuracy: 94.1313711414214 % 24\n",
      "Accuracy: 94.11342426417804 % 25\n",
      "Accuracy: 94.07753050969131 % 26\n",
      "Accuracy: 94.09547738693468 % 27\n",
      "Accuracy: 94.11342426417804 % 28\n",
      "Accuracy: 94.00574300071789 % 29\n",
      "Accuracy: 93.93395549174444 % 30\n",
      "Accuracy: 93.79038047379757 % 31\n",
      "Accuracy: 93.70064608758076 % 32\n",
      "Accuracy: 93.53912419239052 % 33\n",
      "Accuracy: 93.34170854271356 % 34\n",
      "Accuracy: 93.07250538406318 % 35\n",
      "Accuracy: 92.71356783919597 % 36\n",
      "Accuracy: 92.33668341708542 % 37\n",
      "Accuracy: 91.92390524048815 % 38\n",
      "Accuracy: 91.33165829145729 % 39\n",
      "Accuracy: 90.82914572864321 % 40\n",
      "Accuracy: 90.23689877961235 % 41\n",
      "Accuracy: 89.64465183058148 % 42\n",
      "Accuracy: 89.0524048815506 % 43\n",
      "Accuracy: 88.24479540559943 % 44\n",
      "Accuracy: 87.49102656137832 % 45\n",
      "Accuracy: 86.93467336683418 % 46\n",
      "Accuracy: 86.07322325915291 % 47\n",
      "Accuracy: 85.30150753768844 % 48\n",
      "Accuracy: 84.44005743000717 % 49\n",
      "Accuracy: 83.47092605886576 % 50\n",
      "Accuracy: 82.93251974156497 % 51\n",
      "Accuracy: 82.19669777458722 % 52\n",
      "Accuracy: 81.26346015793253 % 53\n",
      "Accuracy: 80.16870064608757 % 54\n",
      "Accuracy: 79.25340990667624 % 55\n",
      "Accuracy: 78.35606604450825 % 56\n",
      "Accuracy: 77.5843503230438 % 57\n",
      "Accuracy: 76.74084709260589 % 58\n",
      "Accuracy: 75.96913137114142 % 59\n",
      "Accuracy: 75.23330940416368 % 60\n",
      "Accuracy: 74.26417803302226 % 61\n",
      "Accuracy: 73.56424982053123 % 62\n",
      "Accuracy: 72.95405599425699 % 63\n",
      "Accuracy: 72.36180904522614 % 64\n",
      "Accuracy: 71.59009332376166 % 65\n",
      "Accuracy: 70.74659009332376 % 66\n",
      "95.26202440775306 5\n"
     ]
    }
   ],
   "source": [
    "from sklearn.feature_extraction.text import CountVectorizer\n",
    "\n",
    "from sklearn.model_selection import KFold\n",
    "kf = KFold(n_splits=5)\n",
    "\n",
    "from sklearn.metrics import pairwise_distances\n",
    "\n",
    "acc=[]\n",
    "for k in range(1,67):\n",
    "    results=pd.Series()\n",
    "    for train_index, test_index in kf.split(df):\n",
    "        XTrain, XTest, YTrain, ytest = df['messages'].iloc[train_index], df['messages'].iloc[test_index], df['label_num'].iloc[train_index], df['label_num'].iloc[test_index]\n",
    "    \n",
    "        cv=CountVectorizer(stop_words=None, token_pattern=r\"(?u)\\b\\w+\\b\")\n",
    "        x1=cv.fit_transform(XTrain)\n",
    "        a1=x1.toarray()\n",
    "        xtrain=pd.DataFrame(a1,index=train_index, columns =cv.get_feature_names())\n",
    "        x2=cv.transform(XTest)\n",
    "        a2=x2.toarray()\n",
    "        xtest=pd.DataFrame(a2, index=test_index, columns =cv.get_feature_names())\n",
    "  \n",
    "        Dist=pairwise_distances(xtest, xtrain, metric='euclidean') \n",
    "    \n",
    "        prediction=[]\n",
    "        for i in range(0,xtest.shape[0]):\n",
    "            sorting=pd.Series(Dist[i],index=train_index)    \n",
    "            sorting=sorting.sort_values()\n",
    "            #print(sorting)\n",
    "        \n",
    "            Output_indexes=sorting[0:k].index\n",
    "        \n",
    "            Output=YTrain[Output_indexes[0:k]]\n",
    "            \n",
    "            O=pd.Series(Output)\n",
    "        \n",
    "            prediction.append(max(O.value_counts().index))\n",
    "    \n",
    "            indexes=list(test_index)\n",
    "    \n",
    "        res=pd.Series(prediction,index=indexes)\n",
    "        results=results.append(res)     \n",
    "    \n",
    "    results=results.sort_index()   \n",
    "    from sklearn import metrics\n",
    "    print(\"Accuracy:\",(metrics.accuracy_score(df['label_num'], results)*100),\"%\",k)\n",
    "    acc.append(metrics.accuracy_score(df['label_num'], results)*100)\n",
    "print(max(acc),acc.index(max(acc)))    "
   ]
  },
  {
   "cell_type": "code",
   "execution_count": 13,
   "metadata": {},
   "outputs": [
    {
     "name": "stdout",
     "output_type": "stream",
     "text": [
      "Accuracy: 95.10050251256281 %\n"
     ]
    }
   ],
   "source": [
    "from sklearn import metrics\n",
    "print(\"Accuracy:\",(metrics.accuracy_score(df['label_num'], results)*100),\"%\")  "
   ]
  }
 ],
 "metadata": {
  "kernelspec": {
   "display_name": "Python 3",
   "language": "python",
   "name": "python3"
  },
  "language_info": {
   "codemirror_mode": {
    "name": "ipython",
    "version": 3
   },
   "file_extension": ".py",
   "mimetype": "text/x-python",
   "name": "python",
   "nbconvert_exporter": "python",
   "pygments_lexer": "ipython3",
   "version": "3.7.1"
  }
 },
 "nbformat": 4,
 "nbformat_minor": 2
}
