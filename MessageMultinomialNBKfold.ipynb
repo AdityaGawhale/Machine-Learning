{
 "cells": [
  {
   "cell_type": "markdown",
   "metadata": {},
   "source": [
    "Read the message data into 'df' DataFrame, label columns (The given dataset here doesn't exist anymore so replace it with any other dataset)"
   ]
  },
  {
   "cell_type": "code",
   "execution_count": null,
   "metadata": {},
   "outputs": [],
   "source": [
    "import pandas as pd\n",
    "import numpy as np\n",
    "\n",
    "df=pd.read_table(\"https://raw.githubusercontent.com/justmarkham/pycon-2016-tutorial/master/data/sms.tsv\",header=None)\n",
    "names=['label','messages']\n",
    "df.columns=names"
   ]
  },
  {
   "cell_type": "markdown",
   "metadata": {},
   "source": [
    "Convert values in 'label' column to numerical values and store in 'label_num' column for using MultinomialNB algorithm that only takes numerical data"
   ]
  },
  {
   "cell_type": "code",
   "execution_count": 18,
   "metadata": {},
   "outputs": [],
   "source": [
    "df['label_num'] = df.label.map({'ham':0, 'spam':1})"
   ]
  },
  {
   "cell_type": "markdown",
   "metadata": {},
   "source": [
    "Train-Test Split the message data using sklearn\n",
    "\n",
    "X_train gives Training message data on which algorithm is trained on (excludes output or 'salary' column)\n",
    "\n",
    "X_test gives Testing message data on which algorithm is tested on (excludes output or 'salary' column)\n",
    "\n",
    "y_train gives 'salary' column or output column for prediction derived from training data \n",
    "\n",
    "y_train gives 'salary' column or output column to be checked for prediction derived from testing data and calculate accuracy of algorithm\n",
    "\n",
    "The entire data is split 5 times into training and testing data such that each row of training data is once part of test data\n",
    "The results of test data after 5 splits is combined according to test_index, i.e index of the rows of original data that came in test data. Then this combined predictions is compared with output values of original data"
   ]
  },
  {
   "cell_type": "code",
   "execution_count": 31,
   "metadata": {},
   "outputs": [],
   "source": [
    "from sklearn.feature_extraction.text import CountVectorizer\n",
    "\n",
    "from sklearn.model_selection import KFold\n",
    "kf = KFold(n_splits=5)\n",
    "\n",
    "from sklearn.naive_bayes import MultinomialNB\n",
    "nb = MultinomialNB()\n",
    "\n",
    "results=pd.Series()\n",
    "\n",
    "for train_index, test_index in kf.split(df):\n",
    "    XTrain, XTest, YTrain, ytest = df['messages'].iloc[train_index], df['messages'].iloc[test_index], df['label_num'].iloc[train_index], df['label_num'].iloc[test_index]\n",
    "    \n",
    "    cv=CountVectorizer(stop_words=None, token_pattern=r\"(?u)\\b\\w+\\b\")\n",
    "    xtrain=cv.fit_transform(XTrain)\n",
    "    xtest=cv.transform(XTest)\n",
    "    nb.fit(xtrain,YTrain)\n",
    "    predict_list = nb.predict(xtest)\n",
    "    \n",
    "    indexes=list(test_index)\n",
    "    \n",
    "    res=pd.Series(predict_list,index=indexes)\n",
    "    results=results.append(res)\n",
    "    \n",
    "results=results.sort_index()           "
   ]
  },
  {
   "cell_type": "code",
   "execution_count": 30,
   "metadata": {},
   "outputs": [
    {
     "name": "stdout",
     "output_type": "stream",
     "text": [
      "Accuracy: 98.56424982053123 %\n"
     ]
    }
   ],
   "source": [
    "from sklearn import metrics\n",
    "print(\"Accuracy:\",(metrics.accuracy_score(df['label_num'], results)*100),\"%\")"
   ]
  }
 ],
 "metadata": {
  "kernelspec": {
   "display_name": "Python 3",
   "language": "python",
   "name": "python3"
  },
  "language_info": {
   "codemirror_mode": {
    "name": "ipython",
    "version": 3
   },
   "file_extension": ".py",
   "mimetype": "text/x-python",
   "name": "python",
   "nbconvert_exporter": "python",
   "pygments_lexer": "ipython3",
   "version": "3.7.1"
  }
 },
 "nbformat": 4,
 "nbformat_minor": 2
}
