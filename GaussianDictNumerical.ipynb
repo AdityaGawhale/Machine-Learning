{
 "cells": [
  {
   "cell_type": "markdown",
   "metadata": {},
   "source": [
    "Adult data set from uci website read and column names initialized (Contains Categorical and Continuous data)"
   ]
  },
  {
   "cell_type": "code",
   "execution_count": null,
   "metadata": {},
   "outputs": [],
   "source": [
    "import pandas as pd\n",
    "import numpy as np\n",
    "\n",
    "df=pd.read_csv(\"https://archive.ics.uci.edu/ml/machine-learning-databases/adult/adult.data\",header=None)\n",
    "\n",
    "names=['age','workclass','fnlwgt','education','education-num','marital-status','occupation','relationship','race','sex','capital-gain','capital-loss','hours-per-week','native-country','salary']\n",
    "df.columns=names"
   ]
  },
  {
   "cell_type": "markdown",
   "metadata": {},
   "source": [
    "list0 gives columns having values '?'\n",
    "\n",
    "Each column of DataFrame is a series and each '?' in a series is replaced by the mode of that series (most occuring value in that series)\n",
    "\n",
    "The above tasks fill the missing data in Adult dataset "
   ]
  },
  {
   "cell_type": "code",
   "execution_count": null,
   "metadata": {},
   "outputs": [],
   "source": [
    "list0=[]\n",
    "for column in df.columns:\n",
    "    try:\n",
    "        data= df[df[column]==' ?']\n",
    "        if data.shape[0]>0:\n",
    "            list0.append(column)\n",
    "            \n",
    "    except:\n",
    "        continue;\n",
    "\n",
    "for i in list0:\n",
    "    df[i].replace(' ?',df[i].mode()[0], inplace=True)"
   ]
  },
  {
   "cell_type": "markdown",
   "metadata": {},
   "source": [
    "Columns having Continuous data is made as new DataFrame df1"
   ]
  },
  {
   "cell_type": "code",
   "execution_count": null,
   "metadata": {},
   "outputs": [],
   "source": [
    "df1=df[df._get_numeric_data().columns]\n",
    "df1['salary']=df['salary']"
   ]
  },
  {
   "cell_type": "markdown",
   "metadata": {},
   "source": [
    "Train-Test Split the message data using sklearn\n",
    "\n",
    "X_train gives Training message data on which algorithm is trained on\n",
    "\n",
    "X_test gives Testing message data on which algorithm is tested on\n",
    "\n",
    "y_train gives output column for prediction derived from training data\n",
    "\n",
    "y_train gives output column to be checked for prediction derived from testing data and calculate accuracy of algorithm"
   ]
  },
  {
   "cell_type": "code",
   "execution_count": null,
   "metadata": {},
   "outputs": [],
   "source": [
    "from sklearn.model_selection import train_test_split\n",
    "\n",
    "X_train, X_test, y_train, y_test = train_test_split(df1[df1.columns.drop('salary')], df1['salary'], test_size=0.30)\n",
    "\n",
    "XTrain=X_train.reset_index(drop=True)\n",
    "YTrain=y_train.reset_index(drop=True)\n",
    "ytest=y_test.reset_index(drop=True)\n",
    "xtest=X_test.reset_index(drop=True)"
   ]
  },
  {
   "cell_type": "markdown",
   "metadata": {},
   "source": [
    "dfTRAIN has training data\n",
    "\n",
    "data['Mean'] is mean of given column values corresponding to an output value (eg: age <=50K) i.e in same row\n",
    "data['Var'] is variance of given column values corresponding to an output value (eg: age <=50K) i.e in same row\n",
    "\n",
    "all this is stored in Dict2 key is 'column_name''Output_Value' and value is mean and variance of those values of column_name corresponding to Output_Value (in same row)\n",
    "\n",
    "This the role of Fit function"
   ]
  },
  {
   "cell_type": "code",
   "execution_count": null,
   "metadata": {},
   "outputs": [],
   "source": [
    "def Fit(XTrain,YTrain):\n",
    "    Dict2={}\n",
    "    \n",
    "    dfTRAIN=XTrain.copy()\n",
    "    dfTRAIN['salary']=YTrain \n",
    "    \n",
    "    for i in YTrain.value_counts().index:\n",
    "        for j in XTrain.columns:\n",
    "            data={}\n",
    "            mean=np.mean(dfTRAIN[j][dfTRAIN['salary']==i].values)\n",
    "            variance=np.var(dfTRAIN[j][dfTRAIN['salary']==i].values)\n",
    "            data['Mean']=mean\n",
    "            data['Var']=variance\n",
    "            Dict2[j+i]=data\n",
    "\n",
    "    return(Dict2)       "
   ]
  },
  {
   "cell_type": "code",
   "execution_count": null,
   "metadata": {},
   "outputs": [],
   "source": [
    "Dict1={}\n",
    "\n",
    "Dict1=Fit(XTrain,YTrain)"
   ]
  },
  {
   "cell_type": "markdown",
   "metadata": {},
   "source": [
    "GaussianNB formula used to calculate probability of each attribute given variance, mean, its value. All these attribute's probabilities multiplied Naive_Bayes style to getprediction for a row of training data\n",
    "\n",
    "predictions returned"
   ]
  },
  {
   "cell_type": "code",
   "execution_count": null,
   "metadata": {},
   "outputs": [],
   "source": [
    "import math\n",
    "\n",
    "def predict(xtest,ytest,Dict1):\n",
    "    predict=[]\n",
    "    for i in range(0,xtest.shape[0]):\n",
    "        print(i)\n",
    "        great=0.0\n",
    "        greatest='a'\n",
    "        \n",
    "        for j in ytest.value_counts().index:\n",
    "            val1=1.0\n",
    "            for k in xtest.columns:\n",
    "                x=Dict1[k+j]\n",
    "                mean=x['Mean']\n",
    "                variance=x['Var']\n",
    "                Prob1=(1.0/math.sqrt(2.0*math.pi*(variance**2)))*math.exp(-1.0*(((xtest[k][i]-mean)**2)/(2.0*(variance**2))))\n",
    "                val1=val1*Prob1\n",
    "            \n",
    "            val1=val1*((ytest[ytest==j].shape[0])/ytest.shape[0])\n",
    "                 \n",
    "            if(val1>great):\n",
    "                great=val1\n",
    "                greatest=j\n",
    "             \n",
    "        predict.append(greatest)\n",
    "                \n",
    "    return predict    \n",
    "                    "
   ]
  },
  {
   "cell_type": "code",
   "execution_count": null,
   "metadata": {},
   "outputs": [],
   "source": [
    "predict_list=predict(xtest,ytest,Dict1)"
   ]
  },
  {
   "cell_type": "markdown",
   "metadata": {},
   "source": [
    "Accuracy calculated based on predictions returned and actual output values of test data\n",
    "\n",
    "Accuracy is 76.1%"
   ]
  },
  {
   "cell_type": "code",
   "execution_count": null,
   "metadata": {},
   "outputs": [],
   "source": [
    "def accuracy(predict_list,ytest):\n",
    "    count=0\n",
    "    for i in range(0,ytest.shape[0]):\n",
    "        if(predict_list[i]==ytest[i]):\n",
    "            count=count+1\n",
    "    \n",
    "    Accuracy=count/ytest.shape[0]\n",
    "    return Accuracy"
   ]
  },
  {
   "cell_type": "code",
   "execution_count": 12,
   "metadata": {},
   "outputs": [
    {
     "name": "stdout",
     "output_type": "stream",
     "text": [
      "76.1080970416624 %\n"
     ]
    }
   ],
   "source": [
    "print((accuracy(predict_list,ytest))*100,\"%\")"
   ]
  }
 ],
 "metadata": {
  "kernelspec": {
   "display_name": "Python 3",
   "language": "python",
   "name": "python3"
  },
  "language_info": {
   "codemirror_mode": {
    "name": "ipython",
    "version": 3
   },
   "file_extension": ".py",
   "mimetype": "text/x-python",
   "name": "python",
   "nbconvert_exporter": "python",
   "pygments_lexer": "ipython3",
   "version": "3.7.1"
  }
 },
 "nbformat": 4,
 "nbformat_minor": 2
}
