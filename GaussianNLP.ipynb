{
 "cells": [
  {
   "cell_type": "code",
   "execution_count": 1,
   "metadata": {},
   "outputs": [],
   "source": [
    "import pandas as pd\n",
    "import numpy as np"
   ]
  },
  {
   "cell_type": "markdown",
   "metadata": {},
   "source": [
    "Adult data set from uci website read and column names initialized (Contains Categorical and Continuous data)"
   ]
  },
  {
   "cell_type": "code",
   "execution_count": 13,
   "metadata": {},
   "outputs": [],
   "source": [
    "df=pd.read_csv(\"https://archive.ics.uci.edu/ml/machine-learning-databases/adult/adult.data\",header=None)\n",
    "names=['age','workclass','fnlwgt','education','education-num','marital-status','occupation','relationship','race','sex','capital-gain','capital-loss','hours-per-week','native-country','salary']\n",
    "df.columns=names"
   ]
  },
  {
   "cell_type": "markdown",
   "metadata": {},
   "source": [
    "list0 gives columns having values '?'\n",
    "\n",
    "Each column of DataFrame is a series and each '?' in a series is replaced by the mode of that series (most occuring value in that series)\n",
    "\n",
    "The above tasks fill the missing data in Adult dataset "
   ]
  },
  {
   "cell_type": "code",
   "execution_count": null,
   "metadata": {},
   "outputs": [],
   "source": [
    "list0=[]\n",
    "for column in df.columns:\n",
    "    try:\n",
    "        data= df[df[column]==' ?']\n",
    "        if data.shape[0]>0:\n",
    "            list0.append(column)\n",
    "            \n",
    "    except:\n",
    "        continue;\n",
    "\n",
    "for i in list0:\n",
    "    df[i].replace(' ?',df[i].mode()[0], inplace=True)"
   ]
  },
  {
   "cell_type": "markdown",
   "metadata": {},
   "source": [
    "Columns having Continuous data is made as new DataFrame df1"
   ]
  },
  {
   "cell_type": "code",
   "execution_count": 5,
   "metadata": {},
   "outputs": [],
   "source": [
    "df1=df[df._get_numeric_data().columns]\n",
    "df1['salary']=df['salary']"
   ]
  },
  {
   "cell_type": "markdown",
   "metadata": {},
   "source": [
    "Train-Test Split the message data using sklearn\n",
    "\n",
    "X_train gives Training message data on which algorithm is trained on \n",
    "\n",
    "X_test gives Testing message data on which algorithm is tested on \n",
    "\n",
    "y_train gives output column for prediction derived from training data\n",
    "\n",
    "y_train gives output column to be checked for prediction derived from testing data and calculate accuracy of algorithm"
   ]
  },
  {
   "cell_type": "code",
   "execution_count": 7,
   "metadata": {},
   "outputs": [],
   "source": [
    "from sklearn.model_selection import train_test_split\n",
    "\n",
    "X_train, X_test, y_train, y_test = train_test_split(df1[df1.columns.drop('salary')], df1['salary'], test_size=0.30)\n",
    "\n",
    "XTrain=X_train.reset_index(drop=True)\n",
    "YTrain=y_train.reset_index(drop=True)\n",
    "ytest=y_test.reset_index(drop=True)\n",
    "xtest=X_test.reset_index(drop=True)"
   ]
  },
  {
   "cell_type": "markdown",
   "metadata": {},
   "source": [
    "GaussainNB algorithm imported from sklearn.naive_bayes library, fit and predict function used\n",
    "Time taken is 39ms"
   ]
  },
  {
   "cell_type": "code",
   "execution_count": 12,
   "metadata": {},
   "outputs": [
    {
     "name": "stdout",
     "output_type": "stream",
     "text": [
      "39 ms ± 3.12 ms per loop (mean ± std. dev. of 7 runs, 10 loops each)\n"
     ]
    }
   ],
   "source": [
    "from sklearn.naive_bayes import GaussianNB\n",
    "gnb = GaussianNB()\n",
    "gnb.fit(XTrain,YTrain)\n",
    "predict1=gnb.predict(xtest)"
   ]
  },
  {
   "cell_type": "markdown",
   "metadata": {},
   "source": [
    "predict1 returns predictions made by GaussianNB and this is internally called by score function of GaussianNB algorithm\n",
    "predictions made by GaussianNB for xtest data is compared with ytest to get accuracy\n",
    "\n",
    "accuracy is 79.8%"
   ]
  },
  {
   "cell_type": "code",
   "execution_count": 9,
   "metadata": {},
   "outputs": [
    {
     "name": "stdout",
     "output_type": "stream",
     "text": [
      "0.7982393284880746\n"
     ]
    }
   ],
   "source": [
    "print(gnb.score(xtest,ytest))"
   ]
  }
 ],
 "metadata": {
  "kernelspec": {
   "display_name": "Python 3",
   "language": "python",
   "name": "python3"
  },
  "language_info": {
   "codemirror_mode": {
    "name": "ipython",
    "version": 3
   },
   "file_extension": ".py",
   "mimetype": "text/x-python",
   "name": "python",
   "nbconvert_exporter": "python",
   "pygments_lexer": "ipython3",
   "version": "3.7.1"
  }
 },
 "nbformat": 4,
 "nbformat_minor": 2
}
