{
 "cells": [
  {
   "cell_type": "markdown",
   "metadata": {},
   "source": [
    "Read the message data into 'df' DataFrame, label columns (The given dataset here doesn't exist anymore so replace it with any other dataset)"
   ]
  },
  {
   "cell_type": "code",
   "execution_count": null,
   "metadata": {},
   "outputs": [],
   "source": [
    "import pandas as pd\n",
    "import numpy as np\n",
    "\n",
    "df=pd.read_table(\"https://raw.githubusercontent.com/justmarkham/pycon-2016-tutorial/master/data/sms.tsv\",header=None)\n",
    "names=['label','messages']\n",
    "df.columns=names\n",
    "df"
   ]
  },
  {
   "cell_type": "markdown",
   "metadata": {},
   "source": [
    "Convert values in 'label' column to numerical values and store in 'label_num' column for using MultinomialNB algorithm that only takes numerical data"
   ]
  },
  {
   "cell_type": "code",
   "execution_count": null,
   "metadata": {},
   "outputs": [],
   "source": [
    "df['label_num'] = df.label.map({'ham':0, 'spam':1})"
   ]
  },
  {
   "cell_type": "markdown",
   "metadata": {},
   "source": [
    "Train-Test Split the message data using sklearn\n",
    "\n",
    "X_train gives Training message data on which algorithm is trained on \n",
    "\n",
    "X_test gives Testing message data on which algorithm is tested on \n",
    "\n",
    "y_train gives 'label_num' column or output column for prediction derived from training data \n",
    "\n",
    "y_train gives 'label_num' column or output column to be checked for prediction derived from testing data and calculate accuracy of algorithm "
   ]
  },
  {
   "cell_type": "code",
   "execution_count": null,
   "metadata": {},
   "outputs": [],
   "source": [
    "from sklearn.model_selection import train_test_split\n",
    "X_train, X_test, y_train, y_test = train_test_split(df['messages'], df['label_num'], test_size=0.30)\n",
    "XTrain=X_train.reset_index(drop=True)\n",
    "YTrain=y_train.reset_index(drop=True)\n",
    "XTest=X_test.reset_index(drop=True)\n",
    "YTest=y_test.reset_index(drop=True)"
   ]
  },
  {
   "cell_type": "markdown",
   "metadata": {},
   "source": [
    "Count Vectorizer is called, Firstly the number of columns are decided based on number of disitnct words in the given data. \n",
    "Each row corresponds to a given message sentence and each column value will be the number of occurences of that distinct word (column name) in that sentence. This is all handled by CountVectorizer. \n",
    "\n",
    "fit transfrom function of CountVectorizer needs to be called for both training and testing data since MultinomialNB algorithm only takes numerical data. \n",
    "\n",
    "CountVectorizer is internal to Jupyter Notebook, no need to import anything\n",
    "\n",
    "\n",
    "//////////The parameter to initialize CountVectorizer needs to be changed since it does not recognize single words\\\\\\\\\\\\\\\\\\\\\\\\\\\n",
    "\\\\\\\\\\\\\\\\\\\\  like 'a' as distinct words. For this ' token_pattern=r\"(?u)\\b\\w\\w+\\b\" ' which is a default parameter  /////////////\n",
    "//////////           is updated to ' token_pattern=r\"(?u)\\b\\w+\\b\" ' which recognizes single words                 \\\\\\\\\\\\\\\\\\\\\\\\\\"
   ]
  },
  {
   "cell_type": "code",
   "execution_count": null,
   "metadata": {},
   "outputs": [],
   "source": [
    "cv=CountVectorizer(stop_words=None, token_pattern=r\"(?u)\\b\\w+\\b\")\n",
    "xtrain=cv.fit_transform(XTrain)\n",
    "xtest=cv.transform(XTest)"
   ]
  },
  {
   "cell_type": "markdown",
   "metadata": {},
   "source": [
    "Import MultinomalNB algorithm from sklearn.naive_bayes library and send numerical data of xtrain from CountVectorizer and YTrain our output column to fit function of algorithm\n",
    "\n",
    "Training time is 2.53ms"
   ]
  },
  {
   "cell_type": "code",
   "execution_count": null,
   "metadata": {},
   "outputs": [],
   "source": [
    "from sklearn.naive_bayes import MultinomialNB\n",
    "\n",
    "nb = MultinomialNB()\n",
    "nb.fit(xtrain,YTrain)"
   ]
  },
  {
   "cell_type": "markdown",
   "metadata": {},
   "source": [
    "Return a list of predictions by calling predict function of algorithm and passing test data after CountVectorizer\n",
    "\n",
    "Time to return predictions is 390us"
   ]
  },
  {
   "cell_type": "code",
   "execution_count": null,
   "metadata": {},
   "outputs": [],
   "source": [
    "predict_list = nb.predict(xtest)"
   ]
  },
  {
   "cell_type": "markdown",
   "metadata": {},
   "source": [
    "Use accuracy_score function of metrics from sklearn, pass YTest and compare it with predictions returned from predict function of algorithm to get Accuracy. Accuracy found is 99.1%\n",
    "\n",
    "Time is 1.23ms"
   ]
  },
  {
   "cell_type": "code",
   "execution_count": null,
   "metadata": {},
   "outputs": [],
   "source": [
    "from sklearn import metrics\n",
    "print(\"Accuracy:\",(metrics.accuracy_score(YTest, predict_list)*100),\"%\")"
   ]
  }
 ],
 "metadata": {
  "kernelspec": {
   "display_name": "Python 3",
   "language": "python",
   "name": "python3"
  },
  "language_info": {
   "codemirror_mode": {
    "name": "ipython",
    "version": 3
   },
   "file_extension": ".py",
   "mimetype": "text/x-python",
   "name": "python",
   "nbconvert_exporter": "python",
   "pygments_lexer": "ipython3",
   "version": "3.7.1"
  }
 },
 "nbformat": 4,
 "nbformat_minor": 2
}
